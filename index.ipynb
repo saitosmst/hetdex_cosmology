{
 "cells": [
  {
   "cell_type": "code",
   "execution_count": null,
   "metadata": {},
   "outputs": [],
   "source": [
    "#hide\n",
    "from two_point_clustering.field_on_grid import *"
   ]
  },
  {
   "cell_type": "markdown",
   "metadata": {},
   "source": [
    "# Project name here\n",
    "\n",
    "> Summary description here."
   ]
  },
  {
   "cell_type": "markdown",
   "metadata": {},
   "source": [
    "This file will become your README and also the index of your documentation."
   ]
  },
  {
   "cell_type": "markdown",
   "metadata": {},
   "source": [
    "## Install"
   ]
  },
  {
   "cell_type": "markdown",
   "metadata": {},
   "source": [
    "`pip install your_project_name`"
   ]
  },
  {
   "cell_type": "markdown",
   "metadata": {},
   "source": [
    "## How to use"
   ]
  },
  {
   "cell_type": "markdown",
   "metadata": {},
   "source": [
    "Fill me in please! Don't forget code examples:"
   ]
  },
  {
   "cell_type": "code",
   "execution_count": null,
   "metadata": {},
   "outputs": [
    {
     "name": "stdout",
     "output_type": "stream",
     "text": [
      "running test...\n",
      "  Nyquist wavenumber k_ny = 0.40212385965949354\n",
      "  Compare (iFFT of unity)=(1000000000+0j) vs (Lgrid*Ngrid)^3=1000000000.0\n"
     ]
    }
   ],
   "source": [
    "print('running test...')\n",
    "fg = Field_on_grid(Lbox=[1000., 1000., 1000.], Ngrid=128)\n",
    "print('  Nyquist wavenumber k_ny = {0}'.format(fg.k_nyq))\n",
    "arr_const_c = np.zeros(shape=(fg.nx, fg.ny, fg.nz), dtype=np.float)\n",
    "arr_const_c[:, :, :] = 1\n",
    "arr_const_k = fg.calc_iFFT(arr_const_c)\n",
    "print('  Compare (iFFT of unity)={0} vs (Lgrid*Ngrid)^3={1}'.format(arr_const_k[0, 0, 0], fg.Lgrid**3*fg.Ngrid**3))"
   ]
  },
  {
   "cell_type": "code",
   "execution_count": null,
   "metadata": {},
   "outputs": [],
   "source": []
  }
 ],
 "metadata": {
  "kernelspec": {
   "display_name": "Python 3",
   "language": "python",
   "name": "python3"
  }
 },
 "nbformat": 4,
 "nbformat_minor": 4
}
